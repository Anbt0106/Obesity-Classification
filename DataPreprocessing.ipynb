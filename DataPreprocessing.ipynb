{
 "cells": [
  {
   "cell_type": "code",
   "id": "initial_id",
   "metadata": {
    "collapsed": true,
    "ExecuteTime": {
     "end_time": "2024-12-14T07:37:18.030304Z",
     "start_time": "2024-12-14T07:37:18.010069Z"
    }
   },
   "source": [
    "import numpy as np\n",
    "import pandas as pd\n",
    "from tabulate import tabulate\n",
    "import seaborn as sns\n",
    "import matplotlib.pyplot as plt\n",
    "from sklearn.preprocessing import LabelEncoder\n",
    "from sklearn.preprocessing import StandardScaler\n",
    "from sklearn.decomposition import PCA\n",
    "from sklearn.model_selection import train_test_split"
   ],
   "outputs": [],
   "execution_count": 4
  },
  {
   "metadata": {
    "ExecuteTime": {
     "end_time": "2024-12-14T07:37:33.311500Z",
     "start_time": "2024-12-14T07:37:33.268765Z"
    }
   },
   "cell_type": "code",
   "source": [
    "# Load the data\n",
    "data = pd.read_csv('DATA\\\\ObesityDataSet_raw_and_data_sinthetic.csv', header=0) \n",
    "data.head()"
   ],
   "id": "bb7036c848988699",
   "outputs": [
    {
     "data": {
      "text/plain": [
       "    Age  Gender  Height  Weight        CALC FAVC  FCVC  NCP  SCC SMOKE  CH2O  \\\n",
       "0  21.0  Female    1.62    64.0          no   no   2.0  3.0   no    no   2.0   \n",
       "1  21.0  Female    1.52    56.0   Sometimes   no   3.0  3.0  yes   yes   3.0   \n",
       "2  23.0    Male    1.80    77.0  Frequently   no   2.0  3.0   no    no   2.0   \n",
       "3  27.0    Male    1.80    87.0  Frequently   no   3.0  3.0   no    no   2.0   \n",
       "4  22.0    Male    1.78    89.8   Sometimes   no   2.0  1.0   no    no   2.0   \n",
       "\n",
       "  family_history_with_overweight  FAF  TUE       CAEC                 MTRANS  \\\n",
       "0                            yes  0.0  1.0  Sometimes  Public_Transportation   \n",
       "1                            yes  3.0  0.0  Sometimes  Public_Transportation   \n",
       "2                            yes  2.0  1.0  Sometimes  Public_Transportation   \n",
       "3                             no  2.0  0.0  Sometimes                Walking   \n",
       "4                             no  0.0  0.0  Sometimes  Public_Transportation   \n",
       "\n",
       "            NObeyesdad  \n",
       "0        Normal_Weight  \n",
       "1        Normal_Weight  \n",
       "2        Normal_Weight  \n",
       "3   Overweight_Level_I  \n",
       "4  Overweight_Level_II  "
      ],
      "text/html": [
       "<div>\n",
       "<style scoped>\n",
       "    .dataframe tbody tr th:only-of-type {\n",
       "        vertical-align: middle;\n",
       "    }\n",
       "\n",
       "    .dataframe tbody tr th {\n",
       "        vertical-align: top;\n",
       "    }\n",
       "\n",
       "    .dataframe thead th {\n",
       "        text-align: right;\n",
       "    }\n",
       "</style>\n",
       "<table border=\"1\" class=\"dataframe\">\n",
       "  <thead>\n",
       "    <tr style=\"text-align: right;\">\n",
       "      <th></th>\n",
       "      <th>Age</th>\n",
       "      <th>Gender</th>\n",
       "      <th>Height</th>\n",
       "      <th>Weight</th>\n",
       "      <th>CALC</th>\n",
       "      <th>FAVC</th>\n",
       "      <th>FCVC</th>\n",
       "      <th>NCP</th>\n",
       "      <th>SCC</th>\n",
       "      <th>SMOKE</th>\n",
       "      <th>CH2O</th>\n",
       "      <th>family_history_with_overweight</th>\n",
       "      <th>FAF</th>\n",
       "      <th>TUE</th>\n",
       "      <th>CAEC</th>\n",
       "      <th>MTRANS</th>\n",
       "      <th>NObeyesdad</th>\n",
       "    </tr>\n",
       "  </thead>\n",
       "  <tbody>\n",
       "    <tr>\n",
       "      <th>0</th>\n",
       "      <td>21.0</td>\n",
       "      <td>Female</td>\n",
       "      <td>1.62</td>\n",
       "      <td>64.0</td>\n",
       "      <td>no</td>\n",
       "      <td>no</td>\n",
       "      <td>2.0</td>\n",
       "      <td>3.0</td>\n",
       "      <td>no</td>\n",
       "      <td>no</td>\n",
       "      <td>2.0</td>\n",
       "      <td>yes</td>\n",
       "      <td>0.0</td>\n",
       "      <td>1.0</td>\n",
       "      <td>Sometimes</td>\n",
       "      <td>Public_Transportation</td>\n",
       "      <td>Normal_Weight</td>\n",
       "    </tr>\n",
       "    <tr>\n",
       "      <th>1</th>\n",
       "      <td>21.0</td>\n",
       "      <td>Female</td>\n",
       "      <td>1.52</td>\n",
       "      <td>56.0</td>\n",
       "      <td>Sometimes</td>\n",
       "      <td>no</td>\n",
       "      <td>3.0</td>\n",
       "      <td>3.0</td>\n",
       "      <td>yes</td>\n",
       "      <td>yes</td>\n",
       "      <td>3.0</td>\n",
       "      <td>yes</td>\n",
       "      <td>3.0</td>\n",
       "      <td>0.0</td>\n",
       "      <td>Sometimes</td>\n",
       "      <td>Public_Transportation</td>\n",
       "      <td>Normal_Weight</td>\n",
       "    </tr>\n",
       "    <tr>\n",
       "      <th>2</th>\n",
       "      <td>23.0</td>\n",
       "      <td>Male</td>\n",
       "      <td>1.80</td>\n",
       "      <td>77.0</td>\n",
       "      <td>Frequently</td>\n",
       "      <td>no</td>\n",
       "      <td>2.0</td>\n",
       "      <td>3.0</td>\n",
       "      <td>no</td>\n",
       "      <td>no</td>\n",
       "      <td>2.0</td>\n",
       "      <td>yes</td>\n",
       "      <td>2.0</td>\n",
       "      <td>1.0</td>\n",
       "      <td>Sometimes</td>\n",
       "      <td>Public_Transportation</td>\n",
       "      <td>Normal_Weight</td>\n",
       "    </tr>\n",
       "    <tr>\n",
       "      <th>3</th>\n",
       "      <td>27.0</td>\n",
       "      <td>Male</td>\n",
       "      <td>1.80</td>\n",
       "      <td>87.0</td>\n",
       "      <td>Frequently</td>\n",
       "      <td>no</td>\n",
       "      <td>3.0</td>\n",
       "      <td>3.0</td>\n",
       "      <td>no</td>\n",
       "      <td>no</td>\n",
       "      <td>2.0</td>\n",
       "      <td>no</td>\n",
       "      <td>2.0</td>\n",
       "      <td>0.0</td>\n",
       "      <td>Sometimes</td>\n",
       "      <td>Walking</td>\n",
       "      <td>Overweight_Level_I</td>\n",
       "    </tr>\n",
       "    <tr>\n",
       "      <th>4</th>\n",
       "      <td>22.0</td>\n",
       "      <td>Male</td>\n",
       "      <td>1.78</td>\n",
       "      <td>89.8</td>\n",
       "      <td>Sometimes</td>\n",
       "      <td>no</td>\n",
       "      <td>2.0</td>\n",
       "      <td>1.0</td>\n",
       "      <td>no</td>\n",
       "      <td>no</td>\n",
       "      <td>2.0</td>\n",
       "      <td>no</td>\n",
       "      <td>0.0</td>\n",
       "      <td>0.0</td>\n",
       "      <td>Sometimes</td>\n",
       "      <td>Public_Transportation</td>\n",
       "      <td>Overweight_Level_II</td>\n",
       "    </tr>\n",
       "  </tbody>\n",
       "</table>\n",
       "</div>"
      ]
     },
     "execution_count": 6,
     "metadata": {},
     "output_type": "execute_result"
    }
   ],
   "execution_count": 6
  },
  {
   "metadata": {
    "ExecuteTime": {
     "end_time": "2024-12-14T07:40:18.582958Z",
     "start_time": "2024-12-14T07:40:18.559396Z"
    }
   },
   "cell_type": "code",
   "source": [
    "# Meaning of the features\n",
    "dictionary = {\n",
    "    \"Column Name\": [\"Gender\", \"Age\", \"Height\", \"Weight\", \n",
    "                    \"family_history_with_overweight\", \"FAVC\", \"FCVC\", \"NCP\", \"CAEC\", \"SMOKE\", \"CH2O\",\n",
    "                    \"SCC\", \"FAF\", \"TUE\", \"CALC\", \"MTRANS\", \"NObeyesdad\"\n",
    "                    ],\n",
    "    \"Type\": [\"Feature, Categorical\", \"Feature, Continuous\", \"Feature, Continuous\", \n",
    "             \"Feature, Continuous\", \"Feature, Binary\", \"Feature, Binary\", \n",
    "             \"Feature, Integer\", \"Feature, Continuous\", \"Feature, Categorical\", \"Feature, Binary\",\n",
    "             \"Feature, Continuous\", \"Feature, Binary\", \"Feature, Continuous\", \"Feature, Integer\", \n",
    "             \"Feature, Categorical\", \"Feature, Categorical\", \"Target, Categorical\"],\n",
    "    \"Description\": [\n",
    "        \"Gender\",\n",
    "        \"Age\",\n",
    "        \"Height\",\n",
    "        \"Weight\",\n",
    "        \"Has a family member suffered or suffers from overweight?\",\n",
    "        \"Do you eat high caloric food frequently?\",\n",
    "        \"Do you usually eat vegetables in your meals?\",\n",
    "        \"How many main meals do you have daily?\",\n",
    "        \"Do you eat any food between meals?\",\n",
    "        \"Do you smoke?\",\n",
    "        \"How much water do you drink daily?\",\n",
    "        \"Do you monitor the calories you eat daily?\",\n",
    "        \"How often do you have physical activity?\",\n",
    "        \"How much time do you use technological devices such as cell phone, videogames, television, computer and others?\",\n",
    "        \"How often do you drink alcohol?\",\n",
    "        \"Which transportation do you usually use?\",\n",
    "        \"Obesity level\"\n",
    "    ]\n",
    "}\n",
    "df_dict = pd.DataFrame(dictionary)\n",
    "print(tabulate(df_dict, headers=\"keys\"))"
   ],
   "id": "56cb492b9297d8d4",
   "outputs": [
    {
     "name": "stdout",
     "output_type": "stream",
     "text": [
      "    Column Name                     Type                  Description\n",
      "--  ------------------------------  --------------------  ---------------------------------------------------------------------------------------------------------------\n",
      " 0  Gender                          Feature, Categorical  Gender\n",
      " 1  Age                             Feature, Continuous   Age\n",
      " 2  Height                          Feature, Continuous   Height\n",
      " 3  Weight                          Feature, Continuous   Weight\n",
      " 4  family_history_with_overweight  Feature, Binary       Has a family member suffered or suffers from overweight?\n",
      " 5  FAVC                            Feature, Binary       Do you eat high caloric food frequently?\n",
      " 6  FCVC                            Feature, Integer      Do you usually eat vegetables in your meals?\n",
      " 7  NCP                             Feature, Continuous   How many main meals do you have daily?\n",
      " 8  CAEC                            Feature, Categorical  Do you eat any food between meals?\n",
      " 9  SMOKE                           Feature, Binary       Do you smoke?\n",
      "10  CH2O                            Feature, Continuous   How much water do you drink daily?\n",
      "11  SCC                             Feature, Binary       Do you monitor the calories you eat daily?\n",
      "12  FAF                             Feature, Continuous   How often do you have physical activity?\n",
      "13  TUE                             Feature, Integer      How much time do you use technological devices such as cell phone, videogames, television, computer and others?\n",
      "14  CALC                            Feature, Categorical  How often do you drink alcohol?\n",
      "15  MTRANS                          Feature, Categorical  Which transportation do you usually use?\n",
      "16  NObeyesdad                      Target, Categorical   Obesity level\n"
     ]
    }
   ],
   "execution_count": 7
  },
  {
   "metadata": {
    "ExecuteTime": {
     "end_time": "2024-12-14T07:42:00.234050Z",
     "start_time": "2024-12-14T07:42:00.215190Z"
    }
   },
   "cell_type": "code",
   "source": [
    "# Check for missing values\n",
    "missing_values = data.isnull().sum()\n",
    "print(missing_values)"
   ],
   "id": "684daa9779feb42c",
   "outputs": [
    {
     "name": "stdout",
     "output_type": "stream",
     "text": [
      "Age                               0\n",
      "Gender                            0\n",
      "Height                            0\n",
      "Weight                            0\n",
      "CALC                              0\n",
      "FAVC                              0\n",
      "FCVC                              0\n",
      "NCP                               0\n",
      "SCC                               0\n",
      "SMOKE                             0\n",
      "CH2O                              0\n",
      "family_history_with_overweight    0\n",
      "FAF                               0\n",
      "TUE                               0\n",
      "CAEC                              0\n",
      "MTRANS                            0\n",
      "NObeyesdad                        0\n",
      "dtype: int64\n"
     ]
    }
   ],
   "execution_count": 8
  },
  {
   "metadata": {
    "ExecuteTime": {
     "end_time": "2024-12-14T07:43:24.072861Z",
     "start_time": "2024-12-14T07:43:24.055629Z"
    }
   },
   "cell_type": "code",
   "source": [
    "# Số lượng các giá trị khác nhau của các features\n",
    "unique_values = data.nunique()\n",
    "print(unique_values)"
   ],
   "id": "9b222057fffa73a2",
   "outputs": [
    {
     "name": "stdout",
     "output_type": "stream",
     "text": [
      "Age                               1402\n",
      "Gender                               2\n",
      "Height                            1574\n",
      "Weight                            1525\n",
      "CALC                                 4\n",
      "FAVC                                 2\n",
      "FCVC                               810\n",
      "NCP                                635\n",
      "SCC                                  2\n",
      "SMOKE                                2\n",
      "CH2O                              1268\n",
      "family_history_with_overweight       2\n",
      "FAF                               1190\n",
      "TUE                               1129\n",
      "CAEC                                 4\n",
      "MTRANS                               5\n",
      "NObeyesdad                           7\n",
      "dtype: int64\n"
     ]
    }
   ],
   "execution_count": 13
  },
  {
   "metadata": {
    "ExecuteTime": {
     "end_time": "2024-12-14T07:47:46.370843Z",
     "start_time": "2024-12-14T07:47:46.135937Z"
    }
   },
   "cell_type": "code",
   "source": [
    "# Correlation matrix\n",
    "numerical_df = data.select_dtypes(include=['float64'])\n",
    "correlation_matrix = numerical_df.corr()\n",
    "\n",
    "sns.heatmap(correlation_matrix, annot=True, cmap= 'summer', linewidths=2)\n",
    "plt.title('Correlation Matrix')\n",
    "plt.show()\n"
   ],
   "id": "f778550271108786",
   "outputs": [
    {
     "data": {
      "text/plain": [
       "<Figure size 640x480 with 2 Axes>"
      ],
      "image/png": "[encoded data removed]"
     },
     "metadata": {},
     "output_type": "display_data"
    }
   ],
   "execution_count": 23
  },
  {
   "metadata": {},
   "cell_type": "code",
   "outputs": [],
   "execution_count": null,
   "source": "",
   "id": "ef5d59221533bbc4"
  }
 ],
 "metadata": {
  "kernelspec": {
   "display_name": "Python 3",
   "language": "python",
   "name": "python3"
  },
  "language_info": {
   "codemirror_mode": {
    "name": "ipython",
    "version": 2
   },
   "file_extension": ".py",
   "mimetype": "text/x-python",
   "name": "python",
   "nbconvert_exporter": "python",
   "pygments_lexer": "ipython2",
   "version": "2.7.6"
  }
 },
 "nbformat": 4,
 "nbformat_minor": 5
}
