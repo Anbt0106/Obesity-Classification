{
 "cells": [
  {
   "cell_type": "code",
   "id": "initial_id",
   "metadata": {
    "collapsed": true,
    "ExecuteTime": {
     "end_time": "2024-12-14T16:13:59.369829Z",
     "start_time": "2024-12-14T16:13:59.351943Z"
    }
   },
   "source": [
    "import numpy as np\n",
    "import pandas as pd\n",
    "from sklearn.model_selection import train_test_split"
   ],
   "outputs": [],
   "execution_count": 51
  },
  {
   "metadata": {
    "ExecuteTime": {
     "end_time": "2024-12-14T16:13:59.384959Z",
     "start_time": "2024-12-14T16:13:59.371807Z"
    }
   },
   "cell_type": "code",
   "source": [
    "# Load the data\n",
    "\n",
    "X = pd.read_csv('../DATA/X_data.csv')\n",
    "y = pd.read_csv('../DATA/y_data.csv').values.ravel()"
   ],
   "id": "a2e9ebf7a1b9f068",
   "outputs": [],
   "execution_count": 52
  },
  {
   "metadata": {
    "ExecuteTime": {
     "end_time": "2024-12-14T16:13:59.401016Z",
     "start_time": "2024-12-14T16:13:59.385976Z"
    }
   },
   "cell_type": "code",
   "source": [
    "# Chia dữ liệu\n",
    "\n",
    "X = X.to_numpy()\n",
    "\n",
    "X_train_origin_41, X_test_origin_41, y_train_origin_41, y_test_origin_41 = train_test_split(X, y, test_size=0.2)  #4:1\n",
    "X_train_origin_73, X_test_origin_73, y_train_origin_73, y_test_origin_73 = train_test_split(X, y, test_size=0.3)  #7:3\n",
    "X_train_origin_64, X_test_origin_64, y_train_origin_64, y_test_origin_64 = train_test_split(X, y, test_size=0.4)  #6:4"
   ],
   "id": "5d3ce4e859d46d2f",
   "outputs": [],
   "execution_count": 53
  },
  {
   "metadata": {
    "ExecuteTime": {
     "end_time": "2024-12-14T16:13:59.416558Z",
     "start_time": "2024-12-14T16:13:59.403015Z"
    }
   },
   "cell_type": "code",
   "source": [
    "# Chuẩn hóa dữ liệu\n",
    "\n",
    "from sklearn.preprocessing import StandardScaler\n",
    "\n",
    "scaler = StandardScaler()\n",
    "\n",
    "X_train_origin_41 = scaler.fit_transform(X_train_origin_41)\n",
    "X_test_origin_41 = scaler.fit_transform(X_test_origin_41)\n",
    "\n",
    "X_train_origin_73 = scaler.fit_transform(X_train_origin_73)\n",
    "X_test_origin_73 = scaler.fit_transform(X_test_origin_73)\n",
    "\n",
    "X_train_origin_64 = scaler.fit_transform(X_train_origin_64)\n",
    "X_test_origin_64 = scaler.fit_transform(X_test_origin_64)"
   ],
   "id": "936997817aaf73bc",
   "outputs": [],
   "execution_count": 54
  },
  {
   "metadata": {
    "ExecuteTime": {
     "end_time": "2024-12-14T16:23:41.854495Z",
     "start_time": "2024-12-14T16:23:41.820876Z"
    }
   },
   "cell_type": "code",
   "source": [
    "# Sử dụng phương pháp K-fold Cross-Validation để tìm ra K tối ưu\n",
    "\n",
    "from MODEL import MyKNN\n",
    "from sklearn.model_selection import KFold\n",
    "\n",
    "k_values = range(2, 30)\n",
    "kf = KFold(n_splits=5)\n",
    "mean_accuracies = []\n",
    "\n",
    "for k in k_values:\n",
    "    accuracies = []\n",
    "    for train_index, test_index in kf.split(X):\n",
    "        X_train, X_test = X[train_index], X[test_index]\n",
    "        y_train, y_test = y[train_index], y[test_index]\n",
    "        \n",
    "        \n",
    "        \n",
    "        "
   ],
   "id": "6ea1d26c6b24d809",
   "outputs": [
    {
     "ename": "ImportError",
     "evalue": "cannot import name 'M' from 'MODEL' (unknown location)",
     "output_type": "error",
     "traceback": [
      "\u001B[1;31m---------------------------------------------------------------------------\u001B[0m",
      "\u001B[1;31mImportError\u001B[0m                               Traceback (most recent call last)",
      "Cell \u001B[1;32mIn[57], line 3\u001B[0m\n\u001B[0;32m      1\u001B[0m \u001B[38;5;66;03m# Sử dụng phương pháp K-fold Cross-Validation để tìm ra K tối ưu\u001B[39;00m\n\u001B[1;32m----> 3\u001B[0m \u001B[38;5;28;01mfrom\u001B[39;00m \u001B[38;5;21;01mMODEL\u001B[39;00m \u001B[38;5;28;01mimport\u001B[39;00m M\n\u001B[0;32m      4\u001B[0m \u001B[38;5;28;01mfrom\u001B[39;00m \u001B[38;5;21;01msklearn\u001B[39;00m\u001B[38;5;21;01m.\u001B[39;00m\u001B[38;5;21;01mmodel_selection\u001B[39;00m \u001B[38;5;28;01mimport\u001B[39;00m KFold\n\u001B[0;32m      6\u001B[0m k_values \u001B[38;5;241m=\u001B[39m \u001B[38;5;28mrange\u001B[39m(\u001B[38;5;241m2\u001B[39m, \u001B[38;5;241m30\u001B[39m)\n",
      "\u001B[1;31mImportError\u001B[0m: cannot import name 'M' from 'MODEL' (unknown location)"
     ]
    }
   ],
   "execution_count": 57
  },
  {
   "metadata": {
    "ExecuteTime": {
     "end_time": "2024-12-14T16:23:55.781338Z",
     "start_time": "2024-12-14T16:23:55.099814Z"
    }
   },
   "cell_type": "code",
   "source": [
    "# Dùng thu vien để test thử :)))\n",
    "\n",
    "from sklearn.neighbors import KNeighborsClassifier\n",
    "\n",
    "classifier = KNeighborsClassifier(n_neighbors=5)\n",
    "\n",
    "classifier.fit(X_train_origin_41, y_train_origin_41)\n",
    "y_pred_origin_41_model = classifier.predict(X_test_origin_41)\n",
    "\n",
    "classifier.fit(X_train_origin_73, y_train_origin_73)\n",
    "y_pred_origin_73_model = classifier.predict(X_test_origin_73)\n",
    "\n",
    "classifier.fit(X_train_origin_64, y_train_origin_64)\n",
    "y_pred_origin_64_model = classifier.predict(X_test_origin_64)"
   ],
   "id": "ba65ff29bbd34d45",
   "outputs": [],
   "execution_count": 58
  },
  {
   "metadata": {
    "ExecuteTime": {
     "end_time": "2024-12-14T16:23:58.268650Z",
     "start_time": "2024-12-14T16:23:58.263139Z"
    }
   },
   "cell_type": "code",
   "source": [
    "print(\"4:1\")\n",
    "print(y_test_origin_41[40:50])\n",
    "print(y_pred_origin_41_model[40:50])\n",
    "\n",
    "print(\"\\n7:3\")\n",
    "print(y_test_origin_73[40:50])\n",
    "print(y_pred_origin_73_model[40:50])\n",
    "\n",
    "print(\"\\n6:4\")\n",
    "print(y_test_origin_64[40:50])\n",
    "print(y_pred_origin_64_model[40:50])"
   ],
   "id": "ba8aef9764b3a095",
   "outputs": [
    {
     "name": "stdout",
     "output_type": "stream",
     "text": [
      "4:1\n",
      "[4 3 2 6 5 4 6 4 6 4]\n",
      "[4 3 2 6 6 4 6 4 6 4]\n",
      "\n",
      "7:3\n",
      "[1 0 1 1 6 3 1 5 2 6]\n",
      "[0 0 5 1 6 3 0 5 2 6]\n",
      "\n",
      "6:4\n",
      "[0 5 0 4 2 5 6 4 0 0]\n",
      "[0 5 0 4 2 1 6 4 0 5]\n"
     ]
    }
   ],
   "execution_count": 59
  },
  {
   "metadata": {},
   "cell_type": "code",
   "source": [
    "# Dùng phương pháp KNN để phân loại trên 3 tập dữ liệu gốc đã được chia với tỷ lệ khác nhau\n",
    "\n",
    "my_clf = KNN(k=2)\n",
    "\n",
    "my_clf.fit(X_train_origin_41, y_train_origin_41)\n",
    "y_pred_origin_41 = my_clf.predict(X_test_origin_41)\n",
    "print(f\"4:1: \\n{y_pred_origin_41[40:50]}\")\n",
    "\n",
    "my_clf.fit(X_train_origin_73, y_train_origin_73)\n",
    "y_pred_origin_73 = my_clf.predict(X_test_origin_73)\n",
    "print(f\"7:3: \\n{y_pred_origin_73[40:50]}\")\n",
    "\n",
    "my_clf.fit(X_train_origin_64, y_train_origin_64)\n",
    "y_pred_origin_64 = my_clf.predict(X_test_origin_64)\n",
    "print(f\"6:4: \\n{y_pred_origin_64[40:50]}\")"
   ],
   "id": "1becd3b344733faf",
   "outputs": [],
   "execution_count": null
  },
  {
   "metadata": {},
   "cell_type": "code",
   "source": [
    "# Thực hiện kiểm tra Accuracy\n",
    "\n",
    "acc_41 = np.sum(y_pred_origin_41 == y_test_origin_41) / len(y_test_origin_41)\n",
    "acc_73 = np.sum(y_pred_origin_73 == y_test_origin_73) / len(y_test_origin_73)\n",
    "acc_64 = np.sum(y_pred_origin_64 == y_test_origin_64) / len(y_test_origin_64)\n",
    "\n",
    "print(f\"acc_41: {acc_41}\")\n",
    "print(f\"acc_73: {acc_73}\")\n",
    "print(f\"acc_64: {acc_64}\")"
   ],
   "id": "6c2a70297a89e25b",
   "outputs": [],
   "execution_count": null
  },
  {
   "metadata": {},
   "cell_type": "code",
   "source": [
    "# Giảm chiều dữ liệu\n",
    "# Cần tìm hiểu cách PCA hoạt động như nào\n",
    "\n",
    "from sklearn.decomposition import PCA\n",
    "\n",
    "pca = PCA(n_components=6)\n",
    "\n",
    "X_train_pca_41 = pca.fit_transform(X_train_origin_41)\n",
    "X_test_pca_41 = pca.fit_transform(X_test_origin_41)\n",
    "\n",
    "X_train_pca_73 = pca.fit_transform(X_train_origin_73)\n",
    "X_test_pca_73 = pca.fit_transform(X_test_origin_73)\n",
    "\n",
    "X_train_pca_64 = pca.fit_transform(X_train_origin_64)\n",
    "X_test_pca_64 = pca.fit_transform(X_test_origin_64)"
   ],
   "id": "8881856b75a8b7f3",
   "outputs": [],
   "execution_count": null
  },
  {
   "metadata": {},
   "cell_type": "code",
   "source": [
    "my_clf.fit(X_train_pca_41, y_train_origin_41)\n",
    "y_pred_pca_41 = my_clf.predict(X_test_pca_41)\n",
    "print(f\"4:1: \\n{y_pred_pca_41[40:50]}\")\n",
    "\n",
    "my_clf.fit(X_train_pca_73, y_train_origin_73)\n",
    "y_pred_pca_73 = my_clf.predict(X_test_pca_73)\n",
    "print(f\"7:3: \\n{y_pred_pca_73[40:50]}\")\n",
    "\n",
    "my_clf.fit(X_train_pca_64, y_train_origin_64)\n",
    "y_pred_pca_64 = my_clf.predict(X_test_pca_64)\n",
    "print(f\"6:4: \\n{y_pred_pca_64[40:50]}\")"
   ],
   "id": "603d20c9a58f7eaf",
   "outputs": [],
   "execution_count": null
  },
  {
   "metadata": {},
   "cell_type": "code",
   "source": [
    "# Thực hiện kiểm tra Accuracy\n",
    "\n",
    "acc_pca_41 = np.sum(y_pred_pca_41 == y_test_origin_41) / len(y_test_origin_41)\n",
    "acc_pca_73 = np.sum(y_pred_pca_73 == y_test_origin_73) / len(y_test_origin_73)\n",
    "acc_pca_64 = np.sum(y_pred_pca_64 == y_test_origin_64) / len(y_test_origin_64)\n",
    "\n",
    "print(f\"acc_41: {acc_pca_41}\")\n",
    "print(f\"acc_73: {acc_pca_73}\")\n",
    "print(f\"acc_64: {acc_pca_64}\")"
   ],
   "id": "b9b4a5b8b4465f47",
   "outputs": [],
   "execution_count": null
  }
 ],
 "metadata": {
  "kernelspec": {
   "display_name": "Python 3",
   "language": "python",
   "name": "python3"
  },
  "language_info": {
   "codemirror_mode": {
    "name": "ipython",
    "version": 2
   },
   "file_extension": ".py",
   "mimetype": "text/x-python",
   "name": "python",
   "nbconvert_exporter": "python",
   "pygments_lexer": "ipython2",
   "version": "2.7.6"
  }
 },
 "nbformat": 4,
 "nbformat_minor": 5
}
