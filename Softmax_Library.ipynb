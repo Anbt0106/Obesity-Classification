{
 "cells": [
  {
   "metadata": {
    "ExecuteTime": {
     "end_time": "2024-12-18T09:51:48.777734Z",
     "start_time": "2024-12-18T09:51:48.761779Z"
    }
   },
   "cell_type": "code",
   "source": [
    "import numpy as np\n",
    "import pandas as pd\n",
    "from sklearn.model_selection import train_test_split\n",
    "import seaborn as sns\n",
    "import matplotlib.pyplot as plt"
   ],
   "id": "dbf29584c0aa7571",
   "outputs": [],
   "execution_count": 9
  },
  {
   "metadata": {
    "ExecuteTime": {
     "end_time": "2024-12-18T09:51:48.793839Z",
     "start_time": "2024-12-18T09:51:48.777734Z"
    }
   },
   "cell_type": "code",
   "source": [
    "# read data\n",
    "\n",
    "X = pd.read_csv('DATA\\\\X_data.csv')\n",
    "y = pd.read_csv('DATA\\\\y_data.csv')\n"
   ],
   "id": "41b12aec43070317",
   "outputs": [],
   "execution_count": 10
  },
  {
   "metadata": {
    "ExecuteTime": {
     "end_time": "2024-12-18T09:51:48.809638Z",
     "start_time": "2024-12-18T09:51:48.793839Z"
    }
   },
   "cell_type": "code",
   "source": [
    "# 4:1\n",
    "X_train_4_1, X_test_4_1, y_train_4_1, y_test_4_1 = train_test_split(X, y, test_size=0.2, random_state=42)\n",
    "\n",
    "# 7:3\n",
    "X_train_7_3, X_test_7_3, y_train_7_3, y_test_7_3 = train_test_split(X, y, test_size=0.3, random_state=42)\n",
    "\n",
    "# 6:4\n",
    "X_train_6_4, X_test_6_4, y_train_6_4, y_test_6_4 = train_test_split(X, y, test_size=0.4, random_state=42)\n"
   ],
   "id": "47e5936f616fb0c4",
   "outputs": [],
   "execution_count": 11
  },
  {
   "metadata": {},
   "cell_type": "markdown",
   "source": "### Thực hiện trên tệp dữ liệu đã chuẩn hóa\n",
   "id": "25c62739c3bf0eb"
  },
  {
   "metadata": {
    "ExecuteTime": {
     "end_time": "2024-12-18T09:51:48.841170Z",
     "start_time": "2024-12-18T09:51:48.809638Z"
    }
   },
   "cell_type": "code",
   "source": [
    "from sklearn.preprocessing import StandardScaler\n",
    "\n",
    "# Standardize data for each split\n",
    "scaler = StandardScaler()\n",
    "\n",
    "X_scaled = scaler.fit_transform(X)\n",
    "\n",
    "X_train_4_1_scaler = scaler.fit_transform(X_train_4_1)\n",
    "X_test_4_1_scaler = scaler.transform(X_test_4_1)\n",
    "\n",
    "X_train_7_3_scaler = scaler.fit_transform(X_train_7_3)\n",
    "X_test_7_3_scaler = scaler.transform(X_test_7_3)\n",
    "\n",
    "X_train_6_4_scaler = scaler.fit_transform(X_train_6_4)\n",
    "X_test_6_4_scaler = scaler.transform(X_test_6_4)\n"
   ],
   "id": "94f2574aa9df512c",
   "outputs": [],
   "execution_count": 12
  },
  {
   "metadata": {},
   "cell_type": "markdown",
   "source": "",
   "id": "51c9bd9eda66df2c"
  },
  {
   "metadata": {
    "ExecuteTime": {
     "end_time": "2024-12-18T10:00:30.233377Z",
     "start_time": "2024-12-18T10:00:24.599551Z"
    }
   },
   "cell_type": "code",
   "source": [
    "from sklearn.metrics import accuracy_score, classification_report, confusion_matrix\n",
    "from sklearn.linear_model import LogisticRegression\n",
    "\n",
    "my_logistic = LogisticRegression( C = 1e5, solver='lbfgs', multi_class='multinomial', max_iter=5000)\n",
    "\n",
    "# 4:1\n",
    "my_logistic.fit(X_train_4_1, y_train_4_1.values.ravel())\n",
    "y_pred_4_1 = my_logistic.predict(X_test_4_1)\n",
    "\n",
    "# 7:3\n",
    "my_logistic.fit(X_train_7_3, y_train_7_3.values.ravel())\n",
    "y_pred_7_3 = my_logistic.predict(X_test_7_3)\n",
    "\n",
    "# 6:4\n",
    "my_logistic.fit(X_train_6_4, y_train_6_4.values.ravel())\n",
    "y_pred_6_4 = my_logistic.predict(X_test_6_4)\n",
    "\n",
    "#acuracy\n",
    "print('Accuracy 4:1:', accuracy_score(y_test_4_1, y_pred_4_1))\n",
    "print('Accuracy 7:3:', accuracy_score(y_test_7_3, y_pred_7_3))\n",
    "print('Accuracy 6:4:', accuracy_score(y_test_6_4, y_pred_6_4))\n",
    "\n",
    "#classification report\n",
    "print('Classification report 4:1:', classification_report(y_test_4_1, y_pred_4_1))\n",
    "print('Classification report 7:3:', classification_report(y_test_7_3, y_pred_7_3))\n",
    "print('Classification report 6:4:', classification_report(y_test_6_4, y_pred_6_4))\n",
    "\n",
    "#confusion matrix\n",
    "print('Confusion matrix 4:1:', confusion_matrix(y_test_4_1, y_pred_4_1))\n",
    "print('Confusion matrix 7:3:', confusion_matrix(y_test_7_3, y_pred_7_3))\n",
    "print('Confusion matrix 6:4:', confusion_matrix(y_test_6_4, y_pred_6_4))\n"
   ],
   "id": "513615ac9001a4a1",
   "outputs": [
    {
     "name": "stderr",
     "output_type": "stream",
     "text": [
      "C:\\Users\\buian\\anaconda3\\envs\\py310\\lib\\site-packages\\sklearn\\linear_model\\_logistic.py:1247: FutureWarning: 'multi_class' was deprecated in version 1.5 and will be removed in 1.7. From then on, it will always use 'multinomial'. Leave it to its default value to avoid this warning.\n",
      "  warnings.warn(\n",
      "C:\\Users\\buian\\anaconda3\\envs\\py310\\lib\\site-packages\\sklearn\\linear_model\\_logistic.py:469: ConvergenceWarning: lbfgs failed to converge (status=1):\n",
      "STOP: TOTAL NO. of ITERATIONS REACHED LIMIT.\n",
      "\n",
      "Increase the number of iterations (max_iter) or scale the data as shown in:\n",
      "    https://scikit-learn.org/stable/modules/preprocessing.html\n",
      "Please also refer to the documentation for alternative solver options:\n",
      "    https://scikit-learn.org/stable/modules/linear_model.html#logistic-regression\n",
      "  n_iter_i = _check_optimize_result(\n",
      "C:\\Users\\buian\\anaconda3\\envs\\py310\\lib\\site-packages\\sklearn\\linear_model\\_logistic.py:1247: FutureWarning: 'multi_class' was deprecated in version 1.5 and will be removed in 1.7. From then on, it will always use 'multinomial'. Leave it to its default value to avoid this warning.\n",
      "  warnings.warn(\n",
      "C:\\Users\\buian\\anaconda3\\envs\\py310\\lib\\site-packages\\sklearn\\linear_model\\_logistic.py:469: ConvergenceWarning: lbfgs failed to converge (status=1):\n",
      "STOP: TOTAL NO. of ITERATIONS REACHED LIMIT.\n",
      "\n",
      "Increase the number of iterations (max_iter) or scale the data as shown in:\n",
      "    https://scikit-learn.org/stable/modules/preprocessing.html\n",
      "Please also refer to the documentation for alternative solver options:\n",
      "    https://scikit-learn.org/stable/modules/linear_model.html#logistic-regression\n",
      "  n_iter_i = _check_optimize_result(\n",
      "C:\\Users\\buian\\anaconda3\\envs\\py310\\lib\\site-packages\\sklearn\\linear_model\\_logistic.py:1247: FutureWarning: 'multi_class' was deprecated in version 1.5 and will be removed in 1.7. From then on, it will always use 'multinomial'. Leave it to its default value to avoid this warning.\n",
      "  warnings.warn(\n"
     ]
    },
    {
     "name": "stdout",
     "output_type": "stream",
     "text": [
      "Accuracy 4:1: 0.7541371158392435\n",
      "Accuracy 7:3: 0.7287066246056783\n",
      "Accuracy 6:4: 0.7384615384615385\n",
      "Classification report 4:1:               precision    recall  f1-score   support\n",
      "\n",
      "           0       0.85      0.95      0.90        56\n",
      "           1       0.74      0.50      0.60        62\n",
      "           2       0.78      0.68      0.73        78\n",
      "           3       0.80      0.97      0.88        58\n",
      "           4       0.93      1.00      0.96        63\n",
      "           5       0.62      0.62      0.62        56\n",
      "           6       0.49      0.56      0.52        50\n",
      "\n",
      "    accuracy                           0.75       423\n",
      "   macro avg       0.75      0.75      0.74       423\n",
      "weighted avg       0.75      0.75      0.75       423\n",
      "\n",
      "Classification report 7:3:               precision    recall  f1-score   support\n",
      "\n",
      "           0       0.82      0.93      0.87        86\n",
      "           1       0.66      0.46      0.54        93\n",
      "           2       0.71      0.66      0.68       102\n",
      "           3       0.78      0.91      0.84        88\n",
      "           4       0.88      1.00      0.94        98\n",
      "           5       0.63      0.57      0.60        88\n",
      "           6       0.53      0.56      0.54        79\n",
      "\n",
      "    accuracy                           0.73       634\n",
      "   macro avg       0.72      0.73      0.72       634\n",
      "weighted avg       0.72      0.73      0.72       634\n",
      "\n",
      "Classification report 6:4:               precision    recall  f1-score   support\n",
      "\n",
      "           0       0.83      0.93      0.88       106\n",
      "           1       0.69      0.47      0.56       122\n",
      "           2       0.69      0.66      0.67       137\n",
      "           3       0.80      0.93      0.86       119\n",
      "           4       0.89      1.00      0.94       138\n",
      "           5       0.59      0.57      0.58       112\n",
      "           6       0.59      0.59      0.59       111\n",
      "\n",
      "    accuracy                           0.74       845\n",
      "   macro avg       0.73      0.74      0.73       845\n",
      "weighted avg       0.73      0.74      0.73       845\n",
      "\n",
      "Confusion matrix 4:1: [[53  3  0  0  0  0  0]\n",
      " [ 9 31  1  0  1 12  8]\n",
      " [ 0  0 53 11  2  2 10]\n",
      " [ 0  0  1 56  0  0  1]\n",
      " [ 0  0  0  0 63  0  0]\n",
      " [ 0  8  2  0  1 35 10]\n",
      " [ 0  0 11  3  1  7 28]]\n",
      "Confusion matrix 7:3: [[80  5  0  0  0  1  0]\n",
      " [16 43  3  2  4 15 10]\n",
      " [ 0  1 67 16  3  4 11]\n",
      " [ 0  0  3 80  4  0  1]\n",
      " [ 0  0  0  0 98  0  0]\n",
      " [ 2 11  6  1  1 50 17]\n",
      " [ 0  5 16  4  1  9 44]]\n",
      "Confusion matrix 6:4: [[ 99   6   0   0   0   1   0]\n",
      " [ 19  57   4   1   4  25  12]\n",
      " [  0   1  90  21   6   3  16]\n",
      " [  0   0   3 111   4   0   1]\n",
      " [  0   0   0   0 138   0   0]\n",
      " [  1  12  16   1   2  64  16]\n",
      " [  0   7  18   5   1  15  65]]\n"
     ]
    },
    {
     "name": "stderr",
     "output_type": "stream",
     "text": [
      "C:\\Users\\buian\\anaconda3\\envs\\py310\\lib\\site-packages\\sklearn\\linear_model\\_logistic.py:469: ConvergenceWarning: lbfgs failed to converge (status=1):\n",
      "STOP: TOTAL NO. of ITERATIONS REACHED LIMIT.\n",
      "\n",
      "Increase the number of iterations (max_iter) or scale the data as shown in:\n",
      "    https://scikit-learn.org/stable/modules/preprocessing.html\n",
      "Please also refer to the documentation for alternative solver options:\n",
      "    https://scikit-learn.org/stable/modules/linear_model.html#logistic-regression\n",
      "  n_iter_i = _check_optimize_result(\n"
     ]
    }
   ],
   "execution_count": 22
  },
  {
   "metadata": {},
   "cell_type": "code",
   "outputs": [],
   "execution_count": null,
   "source": "",
   "id": "9e03dc6b3c176a8"
  },
  {
   "metadata": {},
   "cell_type": "markdown",
   "source": "### Thực hiện trên tệp dữ liệu đã giam chiều",
   "id": "3fe3446b1a552749"
  },
  {
   "metadata": {
    "ExecuteTime": {
     "end_time": "2024-12-18T10:02:29.160623Z",
     "start_time": "2024-12-18T10:02:29.096071Z"
    }
   },
   "cell_type": "code",
   "source": [
    "from sklearn.decomposition import PCA\n",
    "\n",
    "pca = PCA(n_components=16)\n",
    "\n",
    "X_pca = pca.fit_transform(X)\n",
    "\n",
    "X_train_4_1_pca = pca.fit_transform(X_train_4_1)\n",
    "X_test_4_1_pca = pca.transform(X_test_4_1)\n",
    "\n",
    "X_train_7_3_pca = pca.fit_transform(X_train_7_3)\n",
    "X_test_7_3_pca = pca.transform(X_test_7_3)\n",
    "\n",
    "X_train_6_4_pca = pca.fit_transform(X_train_6_4)\n",
    "X_test_6_4_pca = pca.transform(X_test_6_4)\n",
    "\n",
    "\n",
    "\n"
   ],
   "id": "b06a9f27d47e1ed9",
   "outputs": [],
   "execution_count": 23
  },
  {
   "metadata": {
    "ExecuteTime": {
     "end_time": "2024-12-18T10:02:38.412781Z",
     "start_time": "2024-12-18T10:02:38.395106Z"
    }
   },
   "cell_type": "code",
   "source": [
    "# Standardize data for each split\n",
    "scaler = StandardScaler()\n",
    "\n",
    "X_scaled = scaler.fit_transform(X)\n",
    "\n",
    "X_train_4_1_pca_scaler = scaler.fit_transform(X_train_4_1_pca)\n",
    "X_test_4_1_pca_scaler = scaler.transform(X_test_4_1_pca)\n",
    "\n",
    "X_train_7_3_pca_scaler = scaler.fit_transform(X_train_7_3_pca)\n",
    "X_test_7_3_pca_scaler = scaler.transform(X_test_7_3_pca)\n",
    "\n",
    "X_train_6_4_pca_scaler = scaler.fit_transform(X_train_6_4_pca)\n",
    "X_test_6_4_pca_scaler = scaler.transform(X_test_6_4_pca)\n"
   ],
   "id": "edc751e5790453d3",
   "outputs": [],
   "execution_count": 24
  },
  {
   "metadata": {
    "ExecuteTime": {
     "end_time": "2024-12-18T10:03:28.472198Z",
     "start_time": "2024-12-18T10:03:22.903487Z"
    }
   },
   "cell_type": "code",
   "source": [
    "my_logistic = LogisticRegression( C = 1e5, solver='lbfgs', multi_class='multinomial', max_iter=5000)\n",
    "\n",
    "# 4:1\n",
    "my_logistic.fit(X_train_4_1_pca, y_train_4_1.values.ravel())\n",
    "y_pred_4_1_pca = my_logistic.predict(X_test_4_1_pca)\n",
    "\n",
    "# 7:3\n",
    "my_logistic.fit(X_train_7_3_pca, y_train_7_3.values.ravel())\n",
    "y_pred_7_3_pca = my_logistic.predict(X_test_7_3_pca)\n",
    "\n",
    "# 6:4\n",
    "my_logistic.fit(X_train_6_4_pca, y_train_6_4.values.ravel())\n",
    "y_pred_6_4_pca = my_logistic.predict(X_test_6_4_pca)\n",
    "\n",
    "#acuracy\n",
    "print('Accuracy 4:1:', accuracy_score(y_test_4_1, y_pred_4_1_pca))\n",
    "print('Accuracy 7:3:', accuracy_score(y_test_7_3, y_pred_7_3_pca))\n",
    "print('Accuracy 6:4:', accuracy_score(y_test_6_4, y_pred_6_4_pca))\n",
    "\n",
    "#classification report\n",
    "print('Classification report 4:1:', classification_report(y_test_4_1, y_pred_4_1_pca))\n",
    "print('Classification report 7:3:', classification_report(y_test_7_3, y_pred_7_3_pca))\n",
    "print('Classification report 6:4:', classification_report(y_test_6_4, y_pred_6_4_pca))\n",
    "\n"
   ],
   "id": "551ed2fa789b89ab",
   "outputs": [
    {
     "name": "stderr",
     "output_type": "stream",
     "text": [
      "C:\\Users\\buian\\anaconda3\\envs\\py310\\lib\\site-packages\\sklearn\\linear_model\\_logistic.py:1247: FutureWarning: 'multi_class' was deprecated in version 1.5 and will be removed in 1.7. From then on, it will always use 'multinomial'. Leave it to its default value to avoid this warning.\n",
      "  warnings.warn(\n",
      "C:\\Users\\buian\\anaconda3\\envs\\py310\\lib\\site-packages\\sklearn\\linear_model\\_logistic.py:469: ConvergenceWarning: lbfgs failed to converge (status=1):\n",
      "STOP: TOTAL NO. of ITERATIONS REACHED LIMIT.\n",
      "\n",
      "Increase the number of iterations (max_iter) or scale the data as shown in:\n",
      "    https://scikit-learn.org/stable/modules/preprocessing.html\n",
      "Please also refer to the documentation for alternative solver options:\n",
      "    https://scikit-learn.org/stable/modules/linear_model.html#logistic-regression\n",
      "  n_iter_i = _check_optimize_result(\n",
      "C:\\Users\\buian\\anaconda3\\envs\\py310\\lib\\site-packages\\sklearn\\linear_model\\_logistic.py:1247: FutureWarning: 'multi_class' was deprecated in version 1.5 and will be removed in 1.7. From then on, it will always use 'multinomial'. Leave it to its default value to avoid this warning.\n",
      "  warnings.warn(\n",
      "C:\\Users\\buian\\anaconda3\\envs\\py310\\lib\\site-packages\\sklearn\\linear_model\\_logistic.py:469: ConvergenceWarning: lbfgs failed to converge (status=1):\n",
      "STOP: TOTAL NO. of ITERATIONS REACHED LIMIT.\n",
      "\n",
      "Increase the number of iterations (max_iter) or scale the data as shown in:\n",
      "    https://scikit-learn.org/stable/modules/preprocessing.html\n",
      "Please also refer to the documentation for alternative solver options:\n",
      "    https://scikit-learn.org/stable/modules/linear_model.html#logistic-regression\n",
      "  n_iter_i = _check_optimize_result(\n",
      "C:\\Users\\buian\\anaconda3\\envs\\py310\\lib\\site-packages\\sklearn\\linear_model\\_logistic.py:1247: FutureWarning: 'multi_class' was deprecated in version 1.5 and will be removed in 1.7. From then on, it will always use 'multinomial'. Leave it to its default value to avoid this warning.\n",
      "  warnings.warn(\n"
     ]
    },
    {
     "name": "stdout",
     "output_type": "stream",
     "text": [
      "Accuracy 4:1: 0.8392434988179669\n",
      "Accuracy 7:3: 0.8280757097791798\n",
      "Accuracy 6:4: 0.8319526627218935\n",
      "Classification report 4:1:               precision    recall  f1-score   support\n",
      "\n",
      "           0       0.83      0.96      0.89        56\n",
      "           1       0.83      0.61      0.70        62\n",
      "           2       0.87      0.85      0.86        78\n",
      "           3       0.89      1.00      0.94        58\n",
      "           4       0.97      1.00      0.98        63\n",
      "           5       0.72      0.79      0.75        56\n",
      "           6       0.71      0.64      0.67        50\n",
      "\n",
      "    accuracy                           0.84       423\n",
      "   macro avg       0.83      0.84      0.83       423\n",
      "weighted avg       0.84      0.84      0.83       423\n",
      "\n",
      "Classification report 7:3:               precision    recall  f1-score   support\n",
      "\n",
      "           0       0.81      0.93      0.86        86\n",
      "           1       0.77      0.61      0.68        93\n",
      "           2       0.88      0.80      0.84       102\n",
      "           3       0.89      1.00      0.94        88\n",
      "           4       0.98      0.99      0.98        98\n",
      "           5       0.71      0.78      0.75        88\n",
      "           6       0.71      0.66      0.68        79\n",
      "\n",
      "    accuracy                           0.83       634\n",
      "   macro avg       0.82      0.83      0.82       634\n",
      "weighted avg       0.83      0.83      0.82       634\n",
      "\n",
      "Classification report 6:4:               precision    recall  f1-score   support\n",
      "\n",
      "           0       0.80      0.94      0.87       106\n",
      "           1       0.83      0.58      0.68       122\n",
      "           2       0.86      0.82      0.84       137\n",
      "           3       0.92      1.00      0.96       119\n",
      "           4       0.97      0.99      0.98       138\n",
      "           5       0.69      0.79      0.73       112\n",
      "           6       0.72      0.68      0.70       111\n",
      "\n",
      "    accuracy                           0.83       845\n",
      "   macro avg       0.83      0.83      0.82       845\n",
      "weighted avg       0.83      0.83      0.83       845\n",
      "\n"
     ]
    },
    {
     "name": "stderr",
     "output_type": "stream",
     "text": [
      "C:\\Users\\buian\\anaconda3\\envs\\py310\\lib\\site-packages\\sklearn\\linear_model\\_logistic.py:469: ConvergenceWarning: lbfgs failed to converge (status=1):\n",
      "STOP: TOTAL NO. of ITERATIONS REACHED LIMIT.\n",
      "\n",
      "Increase the number of iterations (max_iter) or scale the data as shown in:\n",
      "    https://scikit-learn.org/stable/modules/preprocessing.html\n",
      "Please also refer to the documentation for alternative solver options:\n",
      "    https://scikit-learn.org/stable/modules/linear_model.html#logistic-regression\n",
      "  n_iter_i = _check_optimize_result(\n"
     ]
    }
   ],
   "execution_count": 25
  }
 ],
 "metadata": {
  "kernelspec": {
   "display_name": "Python 3",
   "language": "python",
   "name": "python3"
  },
  "language_info": {
   "codemirror_mode": {
    "name": "ipython",
    "version": 2
   },
   "file_extension": ".py",
   "mimetype": "text/x-python",
   "name": "python",
   "nbconvert_exporter": "python",
   "pygments_lexer": "ipython2",
   "version": "2.7.6"
  }
 },
 "nbformat": 4,
 "nbformat_minor": 5
}
