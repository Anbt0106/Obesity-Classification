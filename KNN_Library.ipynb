#%% md
# KNN Library
#%%
import pandas as pd
from sklearn.model_selection import train_test_split
from sklearn.preprocessing import StandardScaler
from sklearn.neighbors import KNeighborsClassifier

#%%
# Read data
X = pd.read_csv('DATA\\X_data.csv')
y = pd.read_csv('DATA\\y_data.csv').values.ravel()

print(f"X shape: {X.shape}, y shape: {y.shape}")
#%% md
### Thực hiện trên tệp dữ liệu đã chuẩn hóa

#%%
# 4:1
X_train_4_1, X_test_4_1, y_train_4_1, y_test_4_1 = train_test_split(X, y, test_size=0.2, random_state=42)

# 7:3
X_train_7_3, X_test_7_3, y_train_7_3, y_test_7_3 = train_test_split(X, y, test_size=0.3, random_state=42)

# 6:4
X_train_6_4, X_test_6_4, y_train_6_4, y_test_6_4 = train_test_split(X, y, test_size=0.4, random_state=42)

#%%
# Standardize data for each split
scaler = StandardScaler()

X_scaled = scaler.fit_transform(X)

X_train_4_1_scaler = scaler.fit_transform(X_train_4_1)
X_test_4_1_scaler = scaler.transform(X_test_4_1)

X_train_7_3_scaler = scaler.fit_transform(X_train_7_3)
X_test_7_3_scaler = scaler.transform(X_test_7_3)

X_train_6_4_scaler = scaler.fit_transform(X_train_6_4)
X_test_6_4_scaler = scaler.transform(X_test_6_4)

#%%
# Find k optimal value using k-fold cross validation
from sklearn.model_selection import KFold
import matplotlib.pyplot as plt
import seaborn as sns
import numpy as np
import math 

k_values = range(2, int(math.sqrt(len(X_scaled))), 2) 
kf = KFold(n_splits=5)  
mean_accuracies = []

for k in k_values:
    accuracies = []
    for train_index, test_index in kf.split(X_scaled):
        X_train, X_test = X_scaled[train_index], X_scaled[test_index]
        y_train, y_test = y[train_index], y[test_index]

        my_clf = KNeighborsClassifier(n_neighbors=k, weights='distance')
        my_clf.fit(X_train, y_train)
        y_pred = my_clf.predict(X_test)

        accuracy = np.mean(y_pred == y_test)
        accuracies.append(accuracy)

    mean_accuracies.append(np.mean(accuracies))

best_k = k_values[np.argmax(mean_accuracies)]
best_accuracy = np.max(mean_accuracies)

print(mean_accuracies)

plt.figure(figsize=(15, 10))
plt.title('Accuracy with different k values', fontsize=20)
plt.xlabel('k', fontsize=15)
plt.ylabel('Accuracy', fontsize=15)
sns.set_style("whitegrid")
plt.plot(k_values, mean_accuracies, marker='o', linestyle='-', color='b')
print(f"K optimal value: {best_k}, Accuracy: {best_accuracy}")


#%%

from sklearn.metrics import accuracy_score, classification_report, confusion_matrix

my_clf = KNeighborsClassifier(n_neighbors=best_k, weights='distance')

# 4:1
my_clf.fit(X_train_4_1_scaler, y_train_4_1)
y_pred_4_1 = my_clf.predict(X_test_4_1_scaler)

# 7:3
my_clf.fit(X_train_7_3_scaler, y_train_7_3)
y_pred_7_3 = my_clf.predict(X_test_7_3_scaler)

# 6:4
my_clf.fit(X_train_6_4_scaler, y_train_6_4)
y_pred_6_4 = my_clf.predict(X_test_6_4_scaler)

#acuracy
print(f"Accuracy 4:1: {accuracy_score(y_test_4_1, y_pred_4_1)}")
print(f"Accuracy 7:3: {accuracy_score(y_test_7_3, y_pred_7_3)}")
print(f"Accuracy 6:4: {accuracy_score(y_test_6_4, y_pred_6_4)}")

#classification report
print("Classification report 4:1")
print(classification_report(y_test_4_1, y_pred_4_1))
print("Classification report 7:3")
print(classification_report(y_test_7_3, y_pred_7_3))
print("Classification report 6:4")
print(classification_report(y_test_6_4, y_pred_6_4))

# Trực quan hóa confusion matrix của cả 3 trường hợp
plt.figure(figsize=(15, 15))
plt.subplot(3, 1, 1)
sns.heatmap(confusion_matrix(y_test_4_1, y_pred_4_1), annot=True, fmt='d', cmap='Blues')
plt.title('4:1', fontsize=15)
plt.subplot(3, 1, 2)
sns.heatmap(confusion_matrix(y_test_7_3, y_pred_7_3), annot=True, fmt='d', cmap='Blues')
plt.title('7:3', fontsize=15)
plt.subplot(3, 1, 3)
sns.heatmap(confusion_matrix(y_test_6_4, y_pred_6_4), annot=True, fmt='d', cmap='Blues')
plt.title('6:4', fontsize=15)
plt.show()
#%%
# trực quan hóa và đánh giá tương quan giữa nhãn dự đoán và nhãn thực tế
plt.figure(figsize=(15, 5))
plt.subplot(1, 3, 1)
sns.scatterplot(x=y_test_4_1, y=y_pred_4_1)
plt.title('4:1', fontsize=15)
plt.subplot(1, 3, 2)
sns.scatterplot(x=y_test_7_3, y=y_pred_7_3)
plt.title('7:3', fontsize=15)
plt.subplot(1, 3, 3)
sns.scatterplot(x=y_test_6_4, y=y_pred_6_4)
plt.title('6:4', fontsize=15)
plt.show()

#%% md
### Thực hiện trên tệp dữ liệu đã giảm chiều với PCA
#%%
from sklearn.decomposition import PCA

pca = PCA(n_components=16)

X_train_4_1_pca = pca.fit_transform(X_train_4_1)
X_test_4_1_pca = pca.transform(X_test_4_1)

X_train_7_3_pca = pca.fit_transform(X_train_7_3)
X_test_7_3_pca = pca.transform(X_test_7_3)

X_train_6_4_pca = pca.fit_transform(X_train_6_4)
X_test_6_4_pca = pca.transform(X_test_6_4)

#%%
# Standardize data for each split
scaler = StandardScaler()

X_scaled = scaler.fit_transform(X)

X_train_4_1_pca_scaler = scaler.fit_transform(X_train_4_1_pca)
X_test_4_1_pca_scaler = scaler.transform(X_test_4_1_pca)

X_train_7_3_pca_scaler = scaler.fit_transform(X_train_7_3_pca)
X_test_7_3_pca_scaler = scaler.transform(X_test_7_3_pca)

X_train_6_4_pca_scaler = scaler.fit_transform(X_train_6_4_pca)
X_test_6_4_pca_scaler = scaler.transform(X_test_6_4_pca)

#%%
my_clf = KNeighborsClassifier(n_neighbors=best_k, weights='distance')

# 4:1
my_clf.fit(X_train_4_1_pca_scaler, y_train_4_1)
y_pred_4_1 = my_clf.predict(X_test_4_1_pca_scaler)

# 7:3
my_clf.fit(X_train_7_3_pca_scaler, y_train_7_3)
y_pred_7_3 = my_clf.predict(X_test_7_3_pca_scaler)

# 6:4
my_clf.fit(X_train_6_4_pca_scaler, y_train_6_4)
y_pred_6_4 = my_clf.predict(X_test_6_4_pca_scaler)


#acuracy
print(f"Accuracy 4:1: {accuracy_score(y_test_4_1, y_pred_4_1)}")
print(f"Accuracy 7:3: {accuracy_score(y_test_7_3, y_pred_7_3)}")
print(f"Accuracy 6:4: {accuracy_score(y_test_6_4, y_pred_6_4)}")
#%%
#classification report
print("Classification report 4:1")
print(classification_report(y_test_4_1, y_pred_4_1))
print("Classification report 7:3")
print(classification_report(y_test_7_3, y_pred_7_3))
print("Classification report 6:4")
print(classification_report(y_test_6_4, y_pred_6_4))

#%%
# Trực quan hóa và đánh giá tương quan giữa nhãn dự đoán và nhãn thực tế
plt.figure(figsize=(15, 5))
plt.subplot(1, 3, 1)
sns.scatterplot(x=y_test_4_1, y=y_pred_4_1)
plt.title('4:1', fontsize=15)
plt.subplot(1, 3, 2)
sns.scatterplot(x=y_test_7_3, y=y_pred_7_3)
plt.title('7:3', fontsize=15)
plt.subplot(1, 3, 3)
sns.scatterplot(x=y_test_6_4, y=y_pred_6_4)
plt.title('6:4', fontsize=15)
    
plt.show()
