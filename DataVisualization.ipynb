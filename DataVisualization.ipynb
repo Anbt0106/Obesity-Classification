{
 "cells": [
  {
   "metadata": {},
   "cell_type": "markdown",
   "source": "## PHÂN TÍCH VÀ TRỰC QUAN HÓA DỮ LIỆU",
   "id": "bcb2fa3c4ec1ebd2"
  },
  {
   "cell_type": "code",
   "id": "initial_id",
   "metadata": {
    "collapsed": true,
    "ExecuteTime": {
     "end_time": "2024-12-17T21:17:08.132117Z",
     "start_time": "2024-12-17T21:17:08.116132Z"
    }
   },
   "source": [
    "#read data\n",
    "import pandas as pd\n",
    "\n",
    "X = pd.read_csv('DATA\\\\X_data.csv')"
   ],
   "outputs": [],
   "execution_count": 44
  },
  {
   "metadata": {
    "ExecuteTime": {
     "end_time": "2024-12-17T21:17:08.148257Z",
     "start_time": "2024-12-17T21:17:08.132117Z"
    }
   },
   "cell_type": "code",
   "source": "print(X.info())",
   "id": "f9986471742ffc85",
   "outputs": [
    {
     "name": "stdout",
     "output_type": "stream",
     "text": [
      "<class 'pandas.core.frame.DataFrame'>\n",
      "RangeIndex: 2111 entries, 0 to 2110\n",
      "Data columns (total 23 columns):\n",
      " #   Column                          Non-Null Count  Dtype  \n",
      "---  ------                          --------------  -----  \n",
      " 0   Age                             2111 non-null   float64\n",
      " 1   Height                          2111 non-null   float64\n",
      " 2   Weight                          2111 non-null   float64\n",
      " 3   FAVC                            2111 non-null   int64  \n",
      " 4   FCVC                            2111 non-null   int64  \n",
      " 5   NCP                             2111 non-null   int64  \n",
      " 6   SCC                             2111 non-null   int64  \n",
      " 7   SMOKE                           2111 non-null   int64  \n",
      " 8   CH2O                            2111 non-null   int64  \n",
      " 9   family_history_with_overweight  2111 non-null   int64  \n",
      " 10  FAF                             2111 non-null   int64  \n",
      " 11  TUE                             2111 non-null   int64  \n",
      " 12  Gender_Male                     2111 non-null   bool   \n",
      " 13  CAEC_Frequently                 2111 non-null   bool   \n",
      " 14  CAEC_Sometimes                  2111 non-null   bool   \n",
      " 15  CAEC_no                         2111 non-null   bool   \n",
      " 16  CALC_Frequently                 2111 non-null   bool   \n",
      " 17  CALC_Sometimes                  2111 non-null   bool   \n",
      " 18  CALC_no                         2111 non-null   bool   \n",
      " 19  MTRANS_Bike                     2111 non-null   bool   \n",
      " 20  MTRANS_Motorbike                2111 non-null   bool   \n",
      " 21  MTRANS_Public_Transportation    2111 non-null   bool   \n",
      " 22  MTRANS_Walking                  2111 non-null   bool   \n",
      "dtypes: bool(11), float64(3), int64(9)\n",
      "memory usage: 220.7 KB\n",
      "None\n"
     ]
    }
   ],
   "execution_count": 45
  },
  {
   "metadata": {
    "ExecuteTime": {
     "end_time": "2024-12-17T21:17:08.180092Z",
     "start_time": "2024-12-17T21:17:08.148257Z"
    }
   },
   "cell_type": "code",
   "source": [
    "# Phân tích thống kê dữ liệu\n",
    "print(X.describe())"
   ],
   "id": "ab78f8b9238ab428",
   "outputs": [
    {
     "name": "stdout",
     "output_type": "stream",
     "text": [
      "               Age       Height       Weight         FAVC         FCVC  \\\n",
      "count  2111.000000  2111.000000  2111.000000  2111.000000  2111.000000   \n",
      "mean     24.312600     1.701677    86.586058     0.883941   457.986736   \n",
      "std       6.345968     0.093305    26.191172     0.320371   295.226514   \n",
      "min      14.000000     1.450000    39.000000     0.000000     0.000000   \n",
      "25%      19.947192     1.630000    65.473343     1.000000   170.000000   \n",
      "50%      22.777890     1.700499    83.000000     1.000000   421.000000   \n",
      "75%      26.000000     1.768464   107.430682     1.000000   809.000000   \n",
      "max      61.000000     1.980000   173.000000     1.000000   809.000000   \n",
      "\n",
      "               NCP          SCC        SMOKE         CH2O  \\\n",
      "count  2111.000000  2111.000000  2111.000000  2111.000000   \n",
      "mean    388.715775     0.045476     0.020843   601.051161   \n",
      "std     179.959492     0.208395     0.142893   391.006783   \n",
      "min       0.000000     0.000000     0.000000     0.000000   \n",
      "25%     325.500000     0.000000     0.000000   312.500000   \n",
      "50%     477.000000     0.000000     0.000000   549.000000   \n",
      "75%     477.000000     0.000000     0.000000   905.500000   \n",
      "max     634.000000     1.000000     1.000000  1267.000000   \n",
      "\n",
      "       family_history_with_overweight          FAF          TUE  \n",
      "count                     2111.000000  2111.000000  2111.000000  \n",
      "mean                         0.817622   539.049266   482.125533  \n",
      "std                          0.386247   407.078823   402.671537  \n",
      "min                          0.000000     0.000000     0.000000  \n",
      "25%                          1.000000   112.500000     0.000000  \n",
      "50%                          1.000000   589.000000   487.000000  \n",
      "75%                          1.000000   919.500000   840.000000  \n",
      "max                          1.000000  1189.000000  1128.000000  \n"
     ]
    }
   ],
   "execution_count": 46
  },
  {
   "metadata": {
    "ExecuteTime": {
     "end_time": "2024-12-17T21:17:08.195934Z",
     "start_time": "2024-12-17T21:17:08.180092Z"
    }
   },
   "cell_type": "code",
   "source": [
    "# Chuẩn hóa dữ liệu \n",
    "from sklearn.preprocessing import StandardScaler\n",
    "\n",
    "scaler = StandardScaler()\n",
    "X_scaled = scaler.fit_transform(X)\n",
    "\n",
    "scaled_df = pd.DataFrame(X_scaled, columns=X.columns)\n",
    "print(scaled_df.head())"
   ],
   "id": "879e5215442c51da",
   "outputs": [
    {
     "name": "stdout",
     "output_type": "stream",
     "text": [
      "        Age    Height    Weight      FAVC      FCVC       NCP       SCC  \\\n",
      "0 -0.522124 -0.875589 -0.862558 -2.759769 -0.975708  0.490695 -0.218272   \n",
      "1 -0.522124 -1.947599 -1.168077 -2.759769  1.189244  0.490695  4.581439   \n",
      "2 -0.206889  1.054029 -0.366090 -2.759769 -0.975708  0.490695 -0.218272   \n",
      "3  0.423582  1.054029  0.015808 -2.759769  1.189244  0.490695 -0.218272   \n",
      "4 -0.364507  0.839627  0.122740 -2.759769 -0.975708 -2.160530 -0.218272   \n",
      "\n",
      "      SMOKE      CH2O  family_history_with_overweight  ...  CAEC_Frequently  \\\n",
      "0 -0.145900 -0.133152                        0.472291  ...        -0.359835   \n",
      "1  6.853997  1.703568                        0.472291  ...        -0.359835   \n",
      "2 -0.145900 -0.133152                        0.472291  ...        -0.359835   \n",
      "3 -0.145900 -0.133152                       -2.117337  ...        -0.359835   \n",
      "4 -0.145900 -0.133152                       -2.117337  ...        -0.359835   \n",
      "\n",
      "   CAEC_Sometimes   CAEC_no  CALC_Frequently  CALC_Sometimes   CALC_no  \\\n",
      "0        0.442757 -0.157344        -0.185194       -1.404720  1.517761   \n",
      "1        0.442757 -0.157344        -0.185194        0.711885 -0.658865   \n",
      "2        0.442757 -0.157344         5.399735       -1.404720 -0.658865   \n",
      "3        0.442757 -0.157344         5.399735       -1.404720 -0.658865   \n",
      "4        0.442757 -0.157344        -0.185194        0.711885 -0.658865   \n",
      "\n",
      "   MTRANS_Bike  MTRANS_Motorbike  MTRANS_Public_Transportation  MTRANS_Walking  \n",
      "0     -0.05768         -0.072375                      0.579721       -0.165078  \n",
      "1     -0.05768         -0.072375                      0.579721       -0.165078  \n",
      "2     -0.05768         -0.072375                      0.579721       -0.165078  \n",
      "3     -0.05768         -0.072375                     -1.724969        6.057758  \n",
      "4     -0.05768         -0.072375                      0.579721       -0.165078  \n",
      "\n",
      "[5 rows x 23 columns]\n"
     ]
    }
   ],
   "execution_count": 47
  },
  {
   "metadata": {
    "ExecuteTime": {
     "end_time": "2024-12-17T21:42:03.977828Z",
     "start_time": "2024-12-17T21:42:03.708477Z"
    }
   },
   "cell_type": "code",
   "source": [
    "# Import thư viện\n",
    "from sklearn.decomposition import PCA\n",
    "import matplotlib.pyplot as plt\n",
    "import numpy as np\n",
    "\n",
    "# Thực hiện PCA\n",
    "pca = PCA(n_components=scaled_df.shape[1])  # Số thành phần tối đa bằng số chiều dữ liệu\n",
    "principal_components = pca.fit_transform(scaled_df)\n",
    "\n",
    "# Tính phương sai \n",
    "explained_variance_ratio = pca.explained_variance_ratio_\n",
    "cumulative_variance = np.cumsum(explained_variance_ratio)\n",
    "\n",
    "# Hiển thị kết quả\n",
    "print(\"Phương sai được giải thích bởi mỗi thành phần chính:\")\n",
    "print(explained_variance_ratio)\n",
    "\n",
    "# Biểu đồ phương sai tích lũy \n",
    "plt.figure(figsize=(8, 5))\n",
    "plt.plot(range(1, len(cumulative_variance) + 1), cumulative_variance, marker='o', linestyle='--')\n",
    "plt.axhline(y=0.90, color='r', linestyle='-', label='90%', linewidth=1)\n",
    "plt.axvline(x=np.argmax(cumulative_variance >= 0.90) + 1, color='g', linestyle='--')\n",
    "plt.title('Phương sai tích lũy theo số chiều')\n",
    "plt.xlabel('Số chiều')\n",
    "plt.ylabel('Phương sai tích lũy')\n",
    "plt.grid()\n",
    "plt.savefig('Img\\\\Cumulative_Explained_Variance.png')\n",
    "plt.show()\n",
    "\n",
    "threshold = 0.90  # Mức độ phương sai cần giữ lại\n",
    "optimal_components = np.argmax(cumulative_variance >= threshold) + 1  # +1 vì chỉ số bắt đầu từ 0\n",
    "print(f\"Số chiều tối ưu là {optimal_components} để giữ lại {threshold * 100}% phương sai\")"
   ],
   "id": "25a9a8e42dd3f42",
   "outputs": [
    {
     "name": "stdout",
     "output_type": "stream",
     "text": [
      "Phương sai được giải thích bởi mỗi thành phần chính:\n",
      "[1.37857345e-01 9.20705618e-02 8.19397447e-02 7.52435634e-02\n",
      " 6.10856652e-02 5.48579334e-02 5.32509379e-02 4.96328103e-02\n",
      " 4.49540361e-02 4.33954942e-02 4.05843547e-02 3.84351076e-02\n",
      " 3.57332112e-02 3.44118250e-02 3.35639416e-02 2.93007136e-02\n",
      " 2.61202972e-02 2.55571189e-02 1.66824865e-02 1.25997916e-02\n",
      " 8.81417561e-03 3.86600141e-03 4.28833063e-05]\n"
     ]
    },
    {
     "data": {
      "text/plain": [
       "<Figure size 800x500 with 1 Axes>"
      ],
      "image/png": "[encoded data removed]"
     },
     "metadata": {},
     "output_type": "display_data"
    },
    {
     "name": "stdout",
     "output_type": "stream",
     "text": [
      "Số chiều tối ưu là 16 để giữ lại 90.0% phương sai\n"
     ]
    }
   ],
   "execution_count": 54
  },
  {
   "metadata": {
    "ExecuteTime": {
     "end_time": "2024-12-17T21:17:08.404061Z",
     "start_time": "2024-12-17T21:17:08.387943Z"
    }
   },
   "cell_type": "code",
   "source": [
    "# Trực quan hóa dữ liệu với PCA 2 chiều trong 16 chiều dữ liệu\n",
    "pca = PCA(n_components=16)\n",
    "principal_components = pca.fit_transform(scaled_df)\n",
    "\n",
    "principal_df = pd.DataFrame(data=principal_components, columns=[f\"PC{i}\" for i in range(1, 17)])\n",
    "print(principal_df.head())\n",
    "\n",
    "# Biểu đồ phân phối dữ liệu sau khi giảm chiều"
   ],
   "id": "12297a01ce9e1b5c",
   "outputs": [],
   "execution_count": 48
  }
 ],
 "metadata": {
  "kernelspec": {
   "display_name": "Python 3",
   "language": "python",
   "name": "python3"
  },
  "language_info": {
   "codemirror_mode": {
    "name": "ipython",
    "version": 2
   },
   "file_extension": ".py",
   "mimetype": "text/x-python",
   "name": "python",
   "nbconvert_exporter": "python",
   "pygments_lexer": "ipython2",
   "version": "2.7.6"
  }
 },
 "nbformat": 4,
 "nbformat_minor": 5
}
